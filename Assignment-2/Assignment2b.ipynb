{
 "cells": [
  {
   "cell_type": "code",
   "execution_count": 1,
   "id": "smoking-pierce",
   "metadata": {},
   "outputs": [],
   "source": [
    "import numpy as np\n",
    "import matplotlib\n",
    "import matplotlib.pyplot as plt\n",
    "import pandas as pd"
   ]
  },
  {
   "cell_type": "code",
   "execution_count": 2,
   "id": "pleasant-witch",
   "metadata": {},
   "outputs": [],
   "source": [
    "from keras.datasets import mnist\n",
    "(x_train, y_train), (x_test, y_test) = mnist.load_data()\n",
    "x_train = x_train.reshape(60000,784)\n",
    "x_test = x_test.reshape(10000,784)"
   ]
  },
  {
   "cell_type": "code",
   "execution_count": 3,
   "id": "transsexual-powell",
   "metadata": {},
   "outputs": [],
   "source": [
    "n_samples = x_train.shape[0]+x_test.shape[0]"
   ]
  },
  {
   "cell_type": "code",
   "execution_count": 4,
   "id": "funded-philosophy",
   "metadata": {},
   "outputs": [],
   "source": [
    "n_features = x_train.shape[1]"
   ]
  },
  {
   "cell_type": "code",
   "execution_count": 5,
   "id": "amended-closer",
   "metadata": {},
   "outputs": [],
   "source": [
    "# Creating the dataset\n",
    "dataset = np.zeros([n_samples,n_features+1])\n",
    "dataset[:60000,:-1] = x_train\n",
    "dataset[:60000,-1] = y_train\n",
    "dataset[60000:,:-1] = x_test\n",
    "dataset[60000:,-1] = y_test"
   ]
  },
  {
   "cell_type": "code",
   "execution_count": 41,
   "id": "further-assembly",
   "metadata": {},
   "outputs": [],
   "source": [
    "def naive_bayes_scratch(dataset,alpha):\n",
    "    \n",
    "    classes = np.unique(dataset[:,-1])\n",
    "    n_classes = len(classes)\n",
    "    \n",
    "    train_set = dataset[:60000,:]\n",
    "    test_set = dataset[60000:,:]\n",
    "    test_set_c=test_set[:,:-1]\n",
    "    test_set_l=test_set[:,-1]\n",
    "    \n",
    "    # Mean and Variance of the Features with respect to the classes\n",
    "    mean = np.zeros([n_classes,n_features])\n",
    "    var = np.zeros([n_classes,n_features])\n",
    "    \n",
    "    #Store the P(class)\n",
    "    class_prob = []\n",
    "    \n",
    "    #Confusion Matrix\n",
    "    confusion_matrix = np.zeros([n_classes,n_classes])\n",
    "    \n",
    "    #Store the accuracy of each digit while testing on the dataset\n",
    "    digit_error = []\n",
    "    \n",
    "    # Finding the each class probability, mean and variance of each class ans store them in the corresponding matrix\n",
    "    for c in classes:\n",
    "        train_set_c = train_set[train_set[:,-1]==c]\n",
    "        train_set_c = train_set_c[:,:-1]\n",
    "        c_prob = len(train_set_c)/len(train_set)\n",
    "        class_prob.append(c_prob)\n",
    "        mean[int(c),:] = train_set_c.mean(axis=0)\n",
    "        var[int(c),:] = train_set_c.var(axis=0)\n",
    "        \n",
    "    # Adding constant to variance to avoid variance with zero value\n",
    "    var = var+alpha\n",
    "    \n",
    "    # Variable to keep count of correct prediction\n",
    "    correct_prediction=0\n",
    "    \n",
    "    for i in range(test_set.shape[0]):\n",
    "        ratios=[]\n",
    "        \n",
    "        # Calculating the probabilities for each class\n",
    "        for j in range(n_classes):\n",
    "            current_class_prob = np.exp(-((test_set_c[i]-mean[j])**2)/(2*var[j]))/np.sqrt(2*np.pi*(var[j]))\n",
    "            r = np.sum(np.log(current_class_prob))\n",
    "            r = r+np.log(class_prob[j])\n",
    "            ratios.append(r)\n",
    "            \n",
    "        # Prediction will be equal to index which has highest probability\n",
    "        prediction = ratios.index(max(ratios))\n",
    "        \n",
    "        # Updating the confusion matrix and correct_prediction count\n",
    "        if prediction == test_set_l[i]:\n",
    "            correct_prediction = correct_prediction+1\n",
    "            confusion_matrix[int(test_set_l[i])][int(test_set_l[i])] = confusion_matrix[int(test_set_l[i])][int(test_set_l[i])]+1\n",
    "        else:\n",
    "            for p in range(n_classes):\n",
    "                if prediction == test_set_l[i]:\n",
    "                    confusion_matrix[int(test_set_l[k])][int(test_set_l[i])] = confusion_matrix[int(test_set_l[k])][int(test_set_l[i])]+1\n",
    "        \n",
    "    # Calculating the accuracy for each digit\n",
    "    for c in classes:\n",
    "        class_count = test_set[test_set[:,-1]==c]\n",
    "        error = 1-((confusion_matrix[int(c)][int(c)])/class_count.shape[0])\n",
    "        digit_error.append(error)\n",
    "        \n",
    "    # Calculating the overall accuracy\n",
    "    total_error = 1-(correct_prediction/test_set.shape[0])\n",
    "    \n",
    "    return (total_error,digit_error,confusion_matrix)"
   ]
  },
  {
   "cell_type": "code",
   "execution_count": 42,
   "id": "british-thread",
   "metadata": {},
   "outputs": [],
   "source": [
    "def naive_bayes_with_smoothing(dataset):\n",
    "    \n",
    "    alpha = [500,1000,2000]\n",
    "    \n",
    "    lists=[]\n",
    "    for i in range(len(alpha)):\n",
    "        (err,digit_err,cm) = naive_bayes_scratch(dataset,alpha[i])\n",
    "        lists.append(err)\n",
    "    \n",
    "    index_alpha = lists.index(min(lists))\n",
    "    print(\"Alpha value with minimum total error = \", alpha[index_alpha])\n",
    "    \n",
    "    (total_error,digit_error,confusion_matrix)=naive_bayes_scratch(dataset,alpha[index_alpha])\n",
    "    \n",
    "    return (total_error,digit_error,confusion_matrix)\n",
    "    "
   ]
  },
  {
   "cell_type": "code",
   "execution_count": 43,
   "id": "cosmetic-jersey",
   "metadata": {},
   "outputs": [
    {
     "name": "stdout",
     "output_type": "stream",
     "text": [
      "Alpha value with minimum total error =  1000\n"
     ]
    }
   ],
   "source": [
    "(total_error,digit_error,confusion_matrix) = naive_bayes_with_smoothing(dataset)"
   ]
  },
  {
   "cell_type": "code",
   "execution_count": 44,
   "id": "marine-damages",
   "metadata": {},
   "outputs": [
    {
     "name": "stdout",
     "output_type": "stream",
     "text": [
      "Digitwise Misclassification Error \n"
     ]
    },
    {
     "data": {
      "text/html": [
       "<div>\n",
       "<style scoped>\n",
       "    .dataframe tbody tr th:only-of-type {\n",
       "        vertical-align: middle;\n",
       "    }\n",
       "\n",
       "    .dataframe tbody tr th {\n",
       "        vertical-align: top;\n",
       "    }\n",
       "\n",
       "    .dataframe thead th {\n",
       "        text-align: right;\n",
       "    }\n",
       "</style>\n",
       "<table border=\"1\" class=\"dataframe\">\n",
       "  <thead>\n",
       "    <tr style=\"text-align: right;\">\n",
       "      <th></th>\n",
       "      <th>Digit Misclassification Error</th>\n",
       "    </tr>\n",
       "  </thead>\n",
       "  <tbody>\n",
       "    <tr>\n",
       "      <th>0</th>\n",
       "      <td>0.079592</td>\n",
       "    </tr>\n",
       "    <tr>\n",
       "      <th>1</th>\n",
       "      <td>0.034361</td>\n",
       "    </tr>\n",
       "    <tr>\n",
       "      <th>2</th>\n",
       "      <td>0.246124</td>\n",
       "    </tr>\n",
       "    <tr>\n",
       "      <th>3</th>\n",
       "      <td>0.194059</td>\n",
       "    </tr>\n",
       "    <tr>\n",
       "      <th>4</th>\n",
       "      <td>0.348269</td>\n",
       "    </tr>\n",
       "    <tr>\n",
       "      <th>5</th>\n",
       "      <td>0.356502</td>\n",
       "    </tr>\n",
       "    <tr>\n",
       "      <th>6</th>\n",
       "      <td>0.097077</td>\n",
       "    </tr>\n",
       "    <tr>\n",
       "      <th>7</th>\n",
       "      <td>0.185798</td>\n",
       "    </tr>\n",
       "    <tr>\n",
       "      <th>8</th>\n",
       "      <td>0.237166</td>\n",
       "    </tr>\n",
       "    <tr>\n",
       "      <th>9</th>\n",
       "      <td>0.107037</td>\n",
       "    </tr>\n",
       "  </tbody>\n",
       "</table>\n",
       "</div>"
      ],
      "text/plain": [
       "   Digit Misclassification Error\n",
       "0                       0.079592\n",
       "1                       0.034361\n",
       "2                       0.246124\n",
       "3                       0.194059\n",
       "4                       0.348269\n",
       "5                       0.356502\n",
       "6                       0.097077\n",
       "7                       0.185798\n",
       "8                       0.237166\n",
       "9                       0.107037"
      ]
     },
     "execution_count": 44,
     "metadata": {},
     "output_type": "execute_result"
    }
   ],
   "source": [
    "digit_error = np.array(digit_error)\n",
    "digit_error = digit_error.reshape(10,1)\n",
    "digit_error_df = pd.DataFrame(digit_error, columns = ['Digit Misclassification Error'])\n",
    "print('Digitwise Misclassification Error ')\n",
    "digit_error_df"
   ]
  },
  {
   "cell_type": "code",
   "execution_count": 45,
   "id": "superior-masters",
   "metadata": {},
   "outputs": [
    {
     "name": "stdout",
     "output_type": "stream",
     "text": [
      "Total Classification Error: \n"
     ]
    },
    {
     "data": {
      "text/plain": [
       "0.18500000000000005"
      ]
     },
     "execution_count": 45,
     "metadata": {},
     "output_type": "execute_result"
    }
   ],
   "source": [
    "print('Total Classification Error: ')\n",
    "total_error"
   ]
  },
  {
   "cell_type": "code",
   "execution_count": null,
   "id": "known-responsibility",
   "metadata": {},
   "outputs": [],
   "source": []
  }
 ],
 "metadata": {
  "kernelspec": {
   "display_name": "Python 3",
   "language": "python",
   "name": "python3"
  },
  "language_info": {
   "codemirror_mode": {
    "name": "ipython",
    "version": 3
   },
   "file_extension": ".py",
   "mimetype": "text/x-python",
   "name": "python",
   "nbconvert_exporter": "python",
   "pygments_lexer": "ipython3",
   "version": "3.8.5"
  }
 },
 "nbformat": 4,
 "nbformat_minor": 5
}
