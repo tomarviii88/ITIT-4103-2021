{
 "cells": [
  {
   "cell_type": "markdown",
   "id": "adaptive-mention",
   "metadata": {},
   "source": [
    "#### Name - Ritika Tomar\n",
    "#### Roll No - 2018IMT-084\n",
    "#### Course - Machine Learning\n",
    "#### Course Code - ITIT-4107-2021\n",
    "#### Assignment Number - 6\n",
    "#### Deadline - 15-11-21"
   ]
  },
  {
   "cell_type": "markdown",
   "id": "retired-birthday",
   "metadata": {},
   "source": [
    "### Importing Dataset"
   ]
  },
  {
   "cell_type": "code",
   "execution_count": 1,
   "id": "connected-trustee",
   "metadata": {},
   "outputs": [],
   "source": [
    "import pandas as pd\n",
    "import matplotlib.pyplot as plt\n",
    "import numpy as np\n",
    "import seaborn as sns\n",
    "\n",
    "data = pd.read_csv(\"iris.data\")"
   ]
  },
  {
   "cell_type": "markdown",
   "id": "found-capacity",
   "metadata": {},
   "source": [
    "### Data Pre-processing"
   ]
  },
  {
   "cell_type": "code",
   "execution_count": 2,
   "id": "proper-marks",
   "metadata": {},
   "outputs": [],
   "source": [
    "from sklearn.preprocessing import LabelEncoder\n",
    "le_class = LabelEncoder()\n",
    "data['class'] = le_class.fit_transform(data['class'])"
   ]
  },
  {
   "cell_type": "code",
   "execution_count": 3,
   "id": "equipped-geology",
   "metadata": {},
   "outputs": [
    {
     "data": {
      "text/html": [
       "<div>\n",
       "<style scoped>\n",
       "    .dataframe tbody tr th:only-of-type {\n",
       "        vertical-align: middle;\n",
       "    }\n",
       "\n",
       "    .dataframe tbody tr th {\n",
       "        vertical-align: top;\n",
       "    }\n",
       "\n",
       "    .dataframe thead th {\n",
       "        text-align: right;\n",
       "    }\n",
       "</style>\n",
       "<table border=\"1\" class=\"dataframe\">\n",
       "  <thead>\n",
       "    <tr style=\"text-align: right;\">\n",
       "      <th></th>\n",
       "      <th>sepal_length</th>\n",
       "      <th>sepal_width</th>\n",
       "      <th>petal_length</th>\n",
       "      <th>petal_width</th>\n",
       "      <th>class</th>\n",
       "    </tr>\n",
       "  </thead>\n",
       "  <tbody>\n",
       "    <tr>\n",
       "      <th>0</th>\n",
       "      <td>5.1</td>\n",
       "      <td>3.5</td>\n",
       "      <td>1.4</td>\n",
       "      <td>0.2</td>\n",
       "      <td>0</td>\n",
       "    </tr>\n",
       "    <tr>\n",
       "      <th>1</th>\n",
       "      <td>4.9</td>\n",
       "      <td>3.0</td>\n",
       "      <td>1.4</td>\n",
       "      <td>0.2</td>\n",
       "      <td>0</td>\n",
       "    </tr>\n",
       "    <tr>\n",
       "      <th>2</th>\n",
       "      <td>4.7</td>\n",
       "      <td>3.2</td>\n",
       "      <td>1.3</td>\n",
       "      <td>0.2</td>\n",
       "      <td>0</td>\n",
       "    </tr>\n",
       "    <tr>\n",
       "      <th>3</th>\n",
       "      <td>4.6</td>\n",
       "      <td>3.1</td>\n",
       "      <td>1.5</td>\n",
       "      <td>0.2</td>\n",
       "      <td>0</td>\n",
       "    </tr>\n",
       "    <tr>\n",
       "      <th>4</th>\n",
       "      <td>5.0</td>\n",
       "      <td>3.6</td>\n",
       "      <td>1.4</td>\n",
       "      <td>0.2</td>\n",
       "      <td>0</td>\n",
       "    </tr>\n",
       "  </tbody>\n",
       "</table>\n",
       "</div>"
      ],
      "text/plain": [
       "   sepal_length  sepal_width  petal_length  petal_width  class\n",
       "0           5.1          3.5           1.4          0.2      0\n",
       "1           4.9          3.0           1.4          0.2      0\n",
       "2           4.7          3.2           1.3          0.2      0\n",
       "3           4.6          3.1           1.5          0.2      0\n",
       "4           5.0          3.6           1.4          0.2      0"
      ]
     },
     "execution_count": 3,
     "metadata": {},
     "output_type": "execute_result"
    }
   ],
   "source": [
    "data.head()"
   ]
  },
  {
   "cell_type": "code",
   "execution_count": 4,
   "id": "improving-kentucky",
   "metadata": {},
   "outputs": [
    {
     "data": {
      "text/html": [
       "<div>\n",
       "<style scoped>\n",
       "    .dataframe tbody tr th:only-of-type {\n",
       "        vertical-align: middle;\n",
       "    }\n",
       "\n",
       "    .dataframe tbody tr th {\n",
       "        vertical-align: top;\n",
       "    }\n",
       "\n",
       "    .dataframe thead th {\n",
       "        text-align: right;\n",
       "    }\n",
       "</style>\n",
       "<table border=\"1\" class=\"dataframe\">\n",
       "  <thead>\n",
       "    <tr style=\"text-align: right;\">\n",
       "      <th></th>\n",
       "      <th>sepal_length</th>\n",
       "      <th>sepal_width</th>\n",
       "      <th>petal_length</th>\n",
       "      <th>petal_width</th>\n",
       "      <th>class</th>\n",
       "    </tr>\n",
       "  </thead>\n",
       "  <tbody>\n",
       "    <tr>\n",
       "      <th>count</th>\n",
       "      <td>150.000000</td>\n",
       "      <td>150.000000</td>\n",
       "      <td>150.000000</td>\n",
       "      <td>150.000000</td>\n",
       "      <td>150.000000</td>\n",
       "    </tr>\n",
       "    <tr>\n",
       "      <th>mean</th>\n",
       "      <td>5.843333</td>\n",
       "      <td>3.054000</td>\n",
       "      <td>3.758667</td>\n",
       "      <td>1.198667</td>\n",
       "      <td>1.000000</td>\n",
       "    </tr>\n",
       "    <tr>\n",
       "      <th>std</th>\n",
       "      <td>0.828066</td>\n",
       "      <td>0.433594</td>\n",
       "      <td>1.764420</td>\n",
       "      <td>0.763161</td>\n",
       "      <td>0.819232</td>\n",
       "    </tr>\n",
       "    <tr>\n",
       "      <th>min</th>\n",
       "      <td>4.300000</td>\n",
       "      <td>2.000000</td>\n",
       "      <td>1.000000</td>\n",
       "      <td>0.100000</td>\n",
       "      <td>0.000000</td>\n",
       "    </tr>\n",
       "    <tr>\n",
       "      <th>25%</th>\n",
       "      <td>5.100000</td>\n",
       "      <td>2.800000</td>\n",
       "      <td>1.600000</td>\n",
       "      <td>0.300000</td>\n",
       "      <td>0.000000</td>\n",
       "    </tr>\n",
       "    <tr>\n",
       "      <th>50%</th>\n",
       "      <td>5.800000</td>\n",
       "      <td>3.000000</td>\n",
       "      <td>4.350000</td>\n",
       "      <td>1.300000</td>\n",
       "      <td>1.000000</td>\n",
       "    </tr>\n",
       "    <tr>\n",
       "      <th>75%</th>\n",
       "      <td>6.400000</td>\n",
       "      <td>3.300000</td>\n",
       "      <td>5.100000</td>\n",
       "      <td>1.800000</td>\n",
       "      <td>2.000000</td>\n",
       "    </tr>\n",
       "    <tr>\n",
       "      <th>max</th>\n",
       "      <td>7.900000</td>\n",
       "      <td>4.400000</td>\n",
       "      <td>6.900000</td>\n",
       "      <td>2.500000</td>\n",
       "      <td>2.000000</td>\n",
       "    </tr>\n",
       "  </tbody>\n",
       "</table>\n",
       "</div>"
      ],
      "text/plain": [
       "       sepal_length  sepal_width  petal_length  petal_width       class\n",
       "count    150.000000   150.000000    150.000000   150.000000  150.000000\n",
       "mean       5.843333     3.054000      3.758667     1.198667    1.000000\n",
       "std        0.828066     0.433594      1.764420     0.763161    0.819232\n",
       "min        4.300000     2.000000      1.000000     0.100000    0.000000\n",
       "25%        5.100000     2.800000      1.600000     0.300000    0.000000\n",
       "50%        5.800000     3.000000      4.350000     1.300000    1.000000\n",
       "75%        6.400000     3.300000      5.100000     1.800000    2.000000\n",
       "max        7.900000     4.400000      6.900000     2.500000    2.000000"
      ]
     },
     "execution_count": 4,
     "metadata": {},
     "output_type": "execute_result"
    }
   ],
   "source": [
    "data.describe()"
   ]
  },
  {
   "cell_type": "code",
   "execution_count": 5,
   "id": "controversial-alert",
   "metadata": {},
   "outputs": [
    {
     "name": "stdout",
     "output_type": "stream",
     "text": [
      "Unique Class =  [0 1 2]\n",
      "Number of unique class =  3\n"
     ]
    }
   ],
   "source": [
    "print(\"Unique Class = \",data['class'].unique())\n",
    "print(\"Number of unique class = \",data['class'].nunique())"
   ]
  },
  {
   "cell_type": "code",
   "execution_count": 6,
   "id": "stuck-filling",
   "metadata": {},
   "outputs": [],
   "source": [
    "X = data.filter(['sepal_length','sepal_width','petal_length','petal_width'])\n",
    "y = data['class']"
   ]
  },
  {
   "cell_type": "markdown",
   "id": "respective-consumer",
   "metadata": {},
   "source": [
    "### Evaluation Metric"
   ]
  },
  {
   "cell_type": "code",
   "execution_count": 7,
   "id": "attractive-equivalent",
   "metadata": {},
   "outputs": [],
   "source": [
    "from sklearn import metrics\n",
    "\n",
    "def purity_score(y_true, y_pred):\n",
    "    cm = metrics.cluster.contingency_matrix(y_true, y_pred)\n",
    "    return np.sum(np.amax(cm,axis=0)) / np.sum(cm)"
   ]
  },
  {
   "cell_type": "markdown",
   "id": "fifth-sending",
   "metadata": {},
   "source": [
    "### EM Clustering Algorithm"
   ]
  },
  {
   "cell_type": "code",
   "execution_count": 8,
   "id": "stunning-canberra",
   "metadata": {},
   "outputs": [],
   "source": [
    "from sklearn import mixture\n",
    "\n",
    "method = list()\n",
    "purity = list()"
   ]
  },
  {
   "cell_type": "code",
   "execution_count": 9,
   "id": "beautiful-average",
   "metadata": {},
   "outputs": [
    {
     "name": "stdout",
     "output_type": "stream",
     "text": [
      "The purity score for the EM with 100 iteration and covariance_type=tied =  0.7266666666666667\n"
     ]
    }
   ],
   "source": [
    "em = mixture.GaussianMixture(n_components=3, covariance_type='tied', max_iter=100, init_params='random')\n",
    "em.fit(X)\n",
    "\n",
    "y_clust_pred = em.predict(X)\n",
    "method.append('EM Random 100 tied')\n",
    "p = purity_score(y,y_clust_pred)\n",
    "print(\"The purity score for the EM with 100 iteration and covariance_type=tied = \", p)\n",
    "purity.append(p)"
   ]
  },
  {
   "cell_type": "code",
   "execution_count": 10,
   "id": "european-third",
   "metadata": {},
   "outputs": [
    {
     "name": "stdout",
     "output_type": "stream",
     "text": [
      "The purity score for the EM with 100 iteration and covariance_type=full =  0.7933333333333333\n"
     ]
    }
   ],
   "source": [
    "em = mixture.GaussianMixture(n_components=3, covariance_type='full', max_iter=100, init_params='random')\n",
    "em.fit(X)\n",
    "\n",
    "y_clust_pred = em.predict(X)\n",
    "method.append('EM Random 100 full')\n",
    "p = purity_score(y,y_clust_pred)\n",
    "print(\"The purity score for the EM with 100 iteration and covariance_type=full = \", p)\n",
    "purity.append(p)"
   ]
  },
  {
   "cell_type": "markdown",
   "id": "tight-classification",
   "metadata": {},
   "source": [
    "### K-Means Algorithm"
   ]
  },
  {
   "cell_type": "code",
   "execution_count": 11,
   "id": "equivalent-hypothesis",
   "metadata": {},
   "outputs": [
    {
     "name": "stdout",
     "output_type": "stream",
     "text": [
      "The purity score for the KMeans with 300 iterations =  0.8933333333333333\n"
     ]
    }
   ],
   "source": [
    "from sklearn.cluster import KMeans\n",
    "kmeans = KMeans(n_clusters = 3, init = 'random', max_iter = 300, n_init = 10, random_state = 0)\n",
    "y_clust_pred = kmeans.fit_predict(X)\n",
    "method.append('K-Means')\n",
    "p = purity_score(y,y_clust_pred)\n",
    "print(\"The purity score for the KMeans with 300 iterations = \",p)\n",
    "purity.append(p)"
   ]
  },
  {
   "cell_type": "code",
   "execution_count": 12,
   "id": "executed-browser",
   "metadata": {},
   "outputs": [
    {
     "data": {
      "text/plain": [
       "[0.7266666666666667, 0.7933333333333333, 0.8933333333333333]"
      ]
     },
     "execution_count": 12,
     "metadata": {},
     "output_type": "execute_result"
    }
   ],
   "source": [
    "purity"
   ]
  },
  {
   "cell_type": "code",
   "execution_count": 13,
   "id": "bulgarian-eugene",
   "metadata": {},
   "outputs": [
    {
     "data": {
      "text/plain": [
       "<AxesSubplot:title={'center':'Purity of various clustering algorithms'}, ylabel='Method'>"
      ]
     },
     "execution_count": 13,
     "metadata": {},
     "output_type": "execute_result"
    },
    {
     "data": {
      "image/png": "[encoded data removed]",
      "text/plain": [
       "<Figure size 432x288 with 1 Axes>"
      ]
     },
     "metadata": {
      "needs_background": "light"
     },
     "output_type": "display_data"
    }
   ],
   "source": [
    "dic = {'Method': method, 'Purity': purity}\n",
    "\n",
    "df = pd.DataFrame(dic)\n",
    "df.plot.barh(x='Method',y='Purity',title='Purity of various clustering algorithms')"
   ]
  },
  {
   "cell_type": "code",
   "execution_count": 14,
   "id": "experienced-playlist",
   "metadata": {},
   "outputs": [
    {
     "data": {
      "text/html": [
       "<div>\n",
       "<style scoped>\n",
       "    .dataframe tbody tr th:only-of-type {\n",
       "        vertical-align: middle;\n",
       "    }\n",
       "\n",
       "    .dataframe tbody tr th {\n",
       "        vertical-align: top;\n",
       "    }\n",
       "\n",
       "    .dataframe thead th {\n",
       "        text-align: right;\n",
       "    }\n",
       "</style>\n",
       "<table border=\"1\" class=\"dataframe\">\n",
       "  <thead>\n",
       "    <tr style=\"text-align: right;\">\n",
       "      <th></th>\n",
       "      <th>Method</th>\n",
       "      <th>Purity</th>\n",
       "    </tr>\n",
       "  </thead>\n",
       "  <tbody>\n",
       "    <tr>\n",
       "      <th>0</th>\n",
       "      <td>EM Random 100 tied</td>\n",
       "      <td>0.726667</td>\n",
       "    </tr>\n",
       "    <tr>\n",
       "      <th>1</th>\n",
       "      <td>EM Random 100 full</td>\n",
       "      <td>0.793333</td>\n",
       "    </tr>\n",
       "    <tr>\n",
       "      <th>2</th>\n",
       "      <td>K-Means</td>\n",
       "      <td>0.893333</td>\n",
       "    </tr>\n",
       "  </tbody>\n",
       "</table>\n",
       "</div>"
      ],
      "text/plain": [
       "               Method    Purity\n",
       "0  EM Random 100 tied  0.726667\n",
       "1  EM Random 100 full  0.793333\n",
       "2             K-Means  0.893333"
      ]
     },
     "execution_count": 14,
     "metadata": {},
     "output_type": "execute_result"
    }
   ],
   "source": [
    "df"
   ]
  },
  {
   "cell_type": "markdown",
   "id": "expensive-elements",
   "metadata": {},
   "source": [
    "### Dimensionality Reduction using PCA"
   ]
  },
  {
   "cell_type": "code",
   "execution_count": 15,
   "id": "seven-collapse",
   "metadata": {},
   "outputs": [],
   "source": [
    "from sklearn.decomposition import PCA\n",
    "\n",
    "pca = PCA(n_components=2)\n",
    "X_new = pca.fit_transform(X)\n",
    "\n",
    "covar_matrix = pca.get_covariance()"
   ]
  },
  {
   "cell_type": "code",
   "execution_count": 16,
   "id": "convertible-cooler",
   "metadata": {
    "scrolled": true
   },
   "outputs": [
    {
     "data": {
      "text/plain": [
       "<AxesSubplot:>"
      ]
     },
     "execution_count": 16,
     "metadata": {},
     "output_type": "execute_result"
    },
    {
     "data": {
      "image/png": "[encoded data removed]",
      "text/plain": [
       "<Figure size 432x288 with 2 Axes>"
      ]
     },
     "metadata": {
      "needs_background": "light"
     },
     "output_type": "display_data"
    }
   ],
   "source": [
    "sns.heatmap(covar_matrix,annot=True)"
   ]
  },
  {
   "cell_type": "markdown",
   "id": "likely-counter",
   "metadata": {},
   "source": [
    "### EM PCA"
   ]
  },
  {
   "cell_type": "code",
   "execution_count": 17,
   "id": "sacred-consumption",
   "metadata": {},
   "outputs": [
    {
     "name": "stdout",
     "output_type": "stream",
     "text": [
      "The purity score for the EM with 100 iteration and covariance_type=full after PCA Reduction =  0.6666666666666666\n"
     ]
    }
   ],
   "source": [
    "em_pca = mixture.GaussianMixture(n_components=3, covariance_type='full', max_iter=100, init_params='random')\n",
    "em_pca.fit(X_new)\n",
    "\n",
    "y_clust_pred = em_pca.predict(X_new)\n",
    "method.append('EM Random 100 full PCA')\n",
    "print(\"The purity score for the EM with 100 iteration and covariance_type=full after PCA Reduction = \", purity_score(y,y_clust_pred))\n",
    "purity.append(purity_score(y,y_clust_pred))"
   ]
  },
  {
   "cell_type": "code",
   "execution_count": 18,
   "id": "strange-scotland",
   "metadata": {},
   "outputs": [
    {
     "name": "stdout",
     "output_type": "stream",
     "text": [
      "The purity score for the EM with 100 iteration and covariance_type=tied after PCA Reduction =  0.6466666666666666\n"
     ]
    }
   ],
   "source": [
    "em_pca = mixture.GaussianMixture(n_components=3, covariance_type='tied', max_iter=100, init_params='random')\n",
    "em_pca.fit(X_new)\n",
    "\n",
    "y_clust_pred = em_pca.predict(X_new)\n",
    "method.append('EM Random 100 tied PCA')\n",
    "print(\"The purity score for the EM with 100 iteration and covariance_type=tied after PCA Reduction = \", purity_score(y,y_clust_pred))\n",
    "purity.append(purity_score(y,y_clust_pred))"
   ]
  },
  {
   "cell_type": "markdown",
   "id": "underlying-incident",
   "metadata": {},
   "source": [
    "### K-Means PCA"
   ]
  },
  {
   "cell_type": "code",
   "execution_count": 19,
   "id": "scientific-vegetation",
   "metadata": {},
   "outputs": [
    {
     "name": "stdout",
     "output_type": "stream",
     "text": [
      "The purity score for the KMeans with 300 iterations after PCA reduction =  0.8866666666666667\n"
     ]
    }
   ],
   "source": [
    "kmeans_pca = KMeans(n_clusters = 3, init = 'random', max_iter = 300, n_init = 10, random_state = 0)\n",
    "y_clust_pred = kmeans_pca.fit_predict(X_new)\n",
    "method.append('kmeans PCA')\n",
    "print(\"The purity score for the KMeans with 300 iterations after PCA reduction = \",purity_score(y,y_clust_pred))\n",
    "purity.append(purity_score(y,y_clust_pred))"
   ]
  },
  {
   "cell_type": "code",
   "execution_count": 20,
   "id": "returning-collection",
   "metadata": {},
   "outputs": [
    {
     "data": {
      "text/plain": [
       "[0.7266666666666667,\n",
       " 0.7933333333333333,\n",
       " 0.8933333333333333,\n",
       " 0.6666666666666666,\n",
       " 0.6466666666666666,\n",
       " 0.8866666666666667]"
      ]
     },
     "execution_count": 20,
     "metadata": {},
     "output_type": "execute_result"
    }
   ],
   "source": [
    "purity"
   ]
  },
  {
   "cell_type": "code",
   "execution_count": 21,
   "id": "bulgarian-violin",
   "metadata": {},
   "outputs": [
    {
     "data": {
      "text/plain": [
       "<AxesSubplot:title={'center':'Purity of various clustering algorithms'}, ylabel='Method'>"
      ]
     },
     "execution_count": 21,
     "metadata": {},
     "output_type": "execute_result"
    },
    {
     "data": {
      "image/png": "[encoded data removed]",
      "text/plain": [
       "<Figure size 432x288 with 1 Axes>"
      ]
     },
     "metadata": {
      "needs_background": "light"
     },
     "output_type": "display_data"
    }
   ],
   "source": [
    "dic = {'Method': method, 'Purity': purity}\n",
    "\n",
    "df = pd.DataFrame(dic)\n",
    "df.plot.barh(x='Method',y='Purity',title='Purity of various clustering algorithms')"
   ]
  },
  {
   "cell_type": "code",
   "execution_count": 22,
   "id": "super-japanese",
   "metadata": {},
   "outputs": [
    {
     "data": {
      "text/html": [
       "<div>\n",
       "<style scoped>\n",
       "    .dataframe tbody tr th:only-of-type {\n",
       "        vertical-align: middle;\n",
       "    }\n",
       "\n",
       "    .dataframe tbody tr th {\n",
       "        vertical-align: top;\n",
       "    }\n",
       "\n",
       "    .dataframe thead th {\n",
       "        text-align: right;\n",
       "    }\n",
       "</style>\n",
       "<table border=\"1\" class=\"dataframe\">\n",
       "  <thead>\n",
       "    <tr style=\"text-align: right;\">\n",
       "      <th></th>\n",
       "      <th>Method</th>\n",
       "      <th>Purity</th>\n",
       "    </tr>\n",
       "  </thead>\n",
       "  <tbody>\n",
       "    <tr>\n",
       "      <th>0</th>\n",
       "      <td>EM Random 100 tied</td>\n",
       "      <td>0.726667</td>\n",
       "    </tr>\n",
       "    <tr>\n",
       "      <th>1</th>\n",
       "      <td>EM Random 100 full</td>\n",
       "      <td>0.793333</td>\n",
       "    </tr>\n",
       "    <tr>\n",
       "      <th>2</th>\n",
       "      <td>K-Means</td>\n",
       "      <td>0.893333</td>\n",
       "    </tr>\n",
       "    <tr>\n",
       "      <th>3</th>\n",
       "      <td>EM Random 100 full PCA</td>\n",
       "      <td>0.666667</td>\n",
       "    </tr>\n",
       "    <tr>\n",
       "      <th>4</th>\n",
       "      <td>EM Random 100 tied PCA</td>\n",
       "      <td>0.646667</td>\n",
       "    </tr>\n",
       "    <tr>\n",
       "      <th>5</th>\n",
       "      <td>kmeans PCA</td>\n",
       "      <td>0.886667</td>\n",
       "    </tr>\n",
       "  </tbody>\n",
       "</table>\n",
       "</div>"
      ],
      "text/plain": [
       "                   Method    Purity\n",
       "0      EM Random 100 tied  0.726667\n",
       "1      EM Random 100 full  0.793333\n",
       "2                 K-Means  0.893333\n",
       "3  EM Random 100 full PCA  0.666667\n",
       "4  EM Random 100 tied PCA  0.646667\n",
       "5              kmeans PCA  0.886667"
      ]
     },
     "execution_count": 22,
     "metadata": {},
     "output_type": "execute_result"
    }
   ],
   "source": [
    "df"
   ]
  },
  {
   "cell_type": "code",
   "execution_count": null,
   "id": "checked-clinton",
   "metadata": {},
   "outputs": [],
   "source": []
  }
 ],
 "metadata": {
  "kernelspec": {
   "display_name": "Python 3",
   "language": "python",
   "name": "python3"
  },
  "language_info": {
   "codemirror_mode": {
    "name": "ipython",
    "version": 3
   },
   "file_extension": ".py",
   "mimetype": "text/x-python",
   "name": "python",
   "nbconvert_exporter": "python",
   "pygments_lexer": "ipython3",
   "version": "3.8.5"
  }
 },
 "nbformat": 4,
 "nbformat_minor": 5
}
